{
  "cells": [
    {
      "cell_type": "markdown",
      "metadata": {
        "_cell_guid": "79c7e3d0-c299-4dcb-8224-4455121ee9b0",
        "_uuid": "d629ff2d2480ee46fbb7e2d37f6b5fab8052498a",
        "id": "Nq1NcCttm5GE"
      },
      "source": [
        "### Import the necessary libraries"
      ]
    },
    {
      "cell_type": "code",
      "execution_count": null,
      "metadata": {
        "_uuid": "d6fb32fd69316596e236eab5fb8cf77c848508c3",
        "id": "6Bc74OB2m5GH"
      },
      "outputs": [],
      "source": [
        "import pandas as pd\n",
        "import numpy as np\n",
        "import re\n",
        "import matplotlib.pyplot as plt\n",
        "plt.rcParams['figure.figsize'] = (15, 4)\n",
        "import seaborn as sns\n",
        "from sklearn.model_selection import train_test_split\n",
        "from sklearn.preprocessing import LabelEncoder\n",
        "\n",
        "from keras.models import Model, Sequential\n",
        "from keras.layers import LSTM, Activation, Dense, Dropout, Input, Embedding\n",
        "from keras.optimizers import RMSprop, Adam\n",
        "from keras.preprocessing.text import Tokenizer\n",
        "from keras_preprocessing.sequence import pad_sequences\n",
        "from sklearn.metrics import confusion_matrix, ConfusionMatrixDisplay\n",
        "from keras.preprocessing import sequence\n",
        "from keras.utils import to_categorical\n",
        "from keras.callbacks import EarlyStopping\n",
        "import keras.backend as K"
      ]
    },
    {
      "cell_type": "markdown",
      "metadata": {
        "_uuid": "f674695f1742479cefdeec0e81ab469f7b6ec90f",
        "id": "KVuQKrUwm5GL"
      },
      "source": [
        "### Load the data into Pandas dataframe"
      ]
    },
    {
      "cell_type": "code",
      "execution_count": null,
      "metadata": {
        "_uuid": "aca2f1d9da3f35d104763166fe4d25448410d8f2",
        "id": "nQCpiwfJm5GM",
        "outputId": "a5059bee-502e-4d58-a2e4-a676e6124ec4"
      },
      "outputs": [
        {
          "data": {
            "text/html": [
              "<div>\n",
              "<style scoped>\n",
              "    .dataframe tbody tr th:only-of-type {\n",
              "        vertical-align: middle;\n",
              "    }\n",
              "\n",
              "    .dataframe tbody tr th {\n",
              "        vertical-align: top;\n",
              "    }\n",
              "\n",
              "    .dataframe thead th {\n",
              "        text-align: right;\n",
              "    }\n",
              "</style>\n",
              "<table border=\"1\" class=\"dataframe\">\n",
              "  <thead>\n",
              "    <tr style=\"text-align: right;\">\n",
              "      <th></th>\n",
              "      <th>Class</th>\n",
              "      <th>sms</th>\n",
              "    </tr>\n",
              "  </thead>\n",
              "  <tbody>\n",
              "    <tr>\n",
              "      <th>0</th>\n",
              "      <td>ham</td>\n",
              "      <td>Squeeeeeze!! This is christmas hug.. If u lik ...</td>\n",
              "    </tr>\n",
              "    <tr>\n",
              "      <th>1</th>\n",
              "      <td>ham</td>\n",
              "      <td>And also I've sorta blown him off a couple tim...</td>\n",
              "    </tr>\n",
              "    <tr>\n",
              "      <th>2</th>\n",
              "      <td>ham</td>\n",
              "      <td>Mmm thats better now i got a roast down me! iÂ...</td>\n",
              "    </tr>\n",
              "    <tr>\n",
              "      <th>3</th>\n",
              "      <td>ham</td>\n",
              "      <td>Mm have some kanji dont eat anything heavy ok</td>\n",
              "    </tr>\n",
              "    <tr>\n",
              "      <th>4</th>\n",
              "      <td>ham</td>\n",
              "      <td>So there's a ring that comes with the guys cos...</td>\n",
              "    </tr>\n",
              "  </tbody>\n",
              "</table>\n",
              "</div>"
            ],
            "text/plain": [
              "  Class                                                sms\n",
              "0   ham  Squeeeeeze!! This is christmas hug.. If u lik ...\n",
              "1   ham  And also I've sorta blown him off a couple tim...\n",
              "2   ham  Mmm thats better now i got a roast down me! iÂ...\n",
              "3   ham      Mm have some kanji dont eat anything heavy ok\n",
              "4   ham  So there's a ring that comes with the guys cos..."
            ]
          },
          "execution_count": 3,
          "metadata": {},
          "output_type": "execute_result"
        }
      ],
      "source": [
        "df = pd.read_csv(r'D:\\REGI\\0Teaching Materials\\Data for Exercises\\LoR - txt - SMSSpam detection_gd\\SMSSpamCollection.csv',delimiter=',',encoding='latin-1')\n",
        "df = df.sample(frac=1, random_state=42).reset_index(drop=True)\n",
        "df.head()"
      ]
    },
    {
      "cell_type": "markdown",
      "metadata": {
        "_uuid": "53083ccecf39523cff290495a6cc768061ba9b46",
        "id": "-3O6HRsQm5GN"
      },
      "source": [
        "Drop the columns that are not required for the neural network."
      ]
    },
    {
      "cell_type": "code",
      "execution_count": null,
      "metadata": {
        "id": "cTCgsFpFm5GO"
      },
      "outputs": [],
      "source": [
        "nltk_data_path = \"D:/anaconda3/zstore\"\n",
        "import os\n",
        "os.makedirs(nltk_data_path, exist_ok=True)\n",
        "nltk.data.path.append(nltk_data_path)"
      ]
    },
    {
      "cell_type": "code",
      "execution_count": null,
      "metadata": {
        "id": "hHYm2AJum5GP",
        "outputId": "12557fe7-ccfc-4307-a1bf-cc1198fadb29"
      },
      "outputs": [
        {
          "name": "stderr",
          "output_type": "stream",
          "text": [
            "[nltk_data] Downloading package stopwords to D:/anaconda3/zstore...\n",
            "[nltk_data]   Unzipping corpora\\stopwords.zip.\n"
          ]
        }
      ],
      "source": [
        "import nltk\n",
        "nltk.download('stopwords', download_dir=nltk_data_path)\n",
        "from nltk.corpus import stopwords\n",
        "stop = stopwords.words('english')"
      ]
    },
    {
      "cell_type": "code",
      "execution_count": null,
      "metadata": {
        "id": "cXzXWArXm5GQ"
      },
      "outputs": [],
      "source": [
        "df['sms'] = df['sms'].replace(r'[^\\w\\s]|_', '', regex=True)\n",
        "df['sms'] = df['sms'].apply(lambda x: ' '.join(x.lower() for x in x.split()))\n",
        "df['sms'] = df['sms'].apply(lambda x: ' '.join([item for item in x.split() if item not in stop]))\n",
        "df['sms'] = df['sms'].replace(r'[^\\w\\d]', ' ', regex=True)\n",
        "df['sms'] = df['sms'].replace(r'ã¼', ' ', regex=True)\n",
        "df['sms'] = df['sms'].replace(r'\\b\\w\\b', ' ', regex=True)\n",
        "df['sms'] = df['sms'].str.strip()\n",
        "df['sms'] = df['sms'].str.replace(' +', ' ', regex=True)"
      ]
    },
    {
      "cell_type": "code",
      "execution_count": null,
      "metadata": {
        "id": "wKidT8bWm5GS",
        "outputId": "33e9b564-77aa-4dde-ac77-3ae98f64876c"
      },
      "outputs": [
        {
          "data": {
            "text/html": [
              "<div>\n",
              "<style scoped>\n",
              "    .dataframe tbody tr th:only-of-type {\n",
              "        vertical-align: middle;\n",
              "    }\n",
              "\n",
              "    .dataframe tbody tr th {\n",
              "        vertical-align: top;\n",
              "    }\n",
              "\n",
              "    .dataframe thead th {\n",
              "        text-align: right;\n",
              "    }\n",
              "</style>\n",
              "<table border=\"1\" class=\"dataframe\">\n",
              "  <thead>\n",
              "    <tr style=\"text-align: right;\">\n",
              "      <th></th>\n",
              "      <th>Class</th>\n",
              "      <th>sms</th>\n",
              "    </tr>\n",
              "  </thead>\n",
              "  <tbody>\n",
              "    <tr>\n",
              "      <th>0</th>\n",
              "      <td>ham</td>\n",
              "      <td>squeeeeeze christmas hug lik frndshp den hug b...</td>\n",
              "    </tr>\n",
              "    <tr>\n",
              "      <th>1</th>\n",
              "      <td>ham</td>\n",
              "      <td>also ive sorta blown couple times recently id ...</td>\n",
              "    </tr>\n",
              "    <tr>\n",
              "      <th>2</th>\n",
              "      <td>ham</td>\n",
              "      <td>mmm thats better got roast iâd better drinks g...</td>\n",
              "    </tr>\n",
              "    <tr>\n",
              "      <th>3</th>\n",
              "      <td>ham</td>\n",
              "      <td>mm kanji dont eat anything heavy ok</td>\n",
              "    </tr>\n",
              "    <tr>\n",
              "      <th>4</th>\n",
              "      <td>ham</td>\n",
              "      <td>theres ring comes guys costumes gift future yo...</td>\n",
              "    </tr>\n",
              "  </tbody>\n",
              "</table>\n",
              "</div>"
            ],
            "text/plain": [
              "  Class                                                sms\n",
              "0   ham  squeeeeeze christmas hug lik frndshp den hug b...\n",
              "1   ham  also ive sorta blown couple times recently id ...\n",
              "2   ham  mmm thats better got roast iâd better drinks g...\n",
              "3   ham                mm kanji dont eat anything heavy ok\n",
              "4   ham  theres ring comes guys costumes gift future yo..."
            ]
          },
          "execution_count": 11,
          "metadata": {},
          "output_type": "execute_result"
        }
      ],
      "source": [
        "df.head()"
      ]
    },
    {
      "cell_type": "code",
      "execution_count": null,
      "metadata": {
        "_uuid": "95a8b5d6f19cf42d4f55c6d2842faf1d0d55c1d0",
        "scrolled": true,
        "id": "t0o5uqO-m5GT",
        "outputId": "a424c758-ceed-410a-e1bb-46204037d120"
      },
      "outputs": [
        {
          "name": "stdout",
          "output_type": "stream",
          "text": [
            "<class 'pandas.core.frame.DataFrame'>\n",
            "RangeIndex: 5572 entries, 0 to 5571\n",
            "Data columns (total 2 columns):\n",
            " #   Column  Non-Null Count  Dtype \n",
            "---  ------  --------------  ----- \n",
            " 0   Class   5572 non-null   object\n",
            " 1   sms     5572 non-null   object\n",
            "dtypes: object(2)\n",
            "memory usage: 87.2+ KB\n"
          ]
        }
      ],
      "source": [
        "df.info()"
      ]
    },
    {
      "cell_type": "markdown",
      "metadata": {
        "_uuid": "3c7060084470000f39a2dcc15b656586dcd6e9fd",
        "id": "FtaLbRarm5GT"
      },
      "source": [
        "Understand the distribution better."
      ]
    },
    {
      "cell_type": "code",
      "execution_count": null,
      "metadata": {
        "_uuid": "a12002f521dd8eaeb0f69a932cbf23815ffd09d7",
        "id": "YVObxKLHm5GU",
        "outputId": "1e4cc174-127f-4bcb-b0b8-32499732b6db"
      },
      "outputs": [
        {
          "data": {
            "text/plain": [
              "Text(0.5, 1.0, 'Number of ham and spam messages')"
            ]
          },
          "execution_count": 13,
          "metadata": {},
          "output_type": "execute_result"
        },
        {
          "data": {
            "image/png": "[encoded data removed]",
            "text/plain": [
              "<Figure size 500x300 with 1 Axes>"
            ]
          },
          "metadata": {},
          "output_type": "display_data"
        }
      ],
      "source": [
        "plt.figure(figsize=(5,3))\n",
        "sns.countplot(x=df.Class)\n",
        "plt.xlabel('Label')\n",
        "plt.title('Number of ham and spam messages')"
      ]
    },
    {
      "cell_type": "markdown",
      "metadata": {
        "_uuid": "353a8191f86c3a22843a729b5d4a5acefbf94be8",
        "id": "EuIqFBMem5GV"
      },
      "source": [
        "* Create input and output vectors.\n",
        "* Process the labels."
      ]
    },
    {
      "cell_type": "code",
      "execution_count": null,
      "metadata": {
        "_uuid": "a1a345c1683e2fcc7173ecae867a5da87f2dde24",
        "id": "um4RkUupm5GW",
        "outputId": "7f4cd290-1f9b-4772-a629-57272560174a"
      },
      "outputs": [
        {
          "name": "stdout",
          "output_type": "stream",
          "text": [
            "y shape:  (5572, 1)\n",
            "y unique values:  [0 1]\n"
          ]
        }
      ],
      "source": [
        "X = df.sms\n",
        "y = df.Class\n",
        "le = LabelEncoder()\n",
        "y = le.fit_transform(y)\n",
        "y = y.reshape(-1,1)\n",
        "print('y shape: ', y.shape)\n",
        "print('y unique values: ', np.unique(y))"
      ]
    },
    {
      "cell_type": "markdown",
      "metadata": {
        "_uuid": "150e244a39b814d8a41bbe0e419bc5f28e457dd6",
        "id": "QL6U7vgAm5GW"
      },
      "source": [
        "Split into training and test data."
      ]
    },
    {
      "cell_type": "code",
      "execution_count": null,
      "metadata": {
        "_uuid": "aa3386af09469682c66cc53a1830a4e42f0e70b6",
        "scrolled": true,
        "id": "0Z4XvlASm5GX"
      },
      "outputs": [],
      "source": [
        "X_train, X_test, y_train, y_test = train_test_split(X, y, test_size=0.15, stratify = y)"
      ]
    },
    {
      "cell_type": "markdown",
      "metadata": {
        "_uuid": "c5378d55c271e01480c1ac07f94ff99a80f900d6",
        "id": "6Q4HM_GJm5GX"
      },
      "source": [
        "### Process the data\n",
        "* Tokenize the data and convert the text to sequences.\n",
        "* Add padding to ensure that all the sequences have the same shape.\n",
        "* There are many ways of taking the *max_len* and here an arbitrary length of 150 is chosen."
      ]
    },
    {
      "cell_type": "code",
      "execution_count": null,
      "metadata": {
        "_uuid": "bdca14f2b8cd7bd7cb5ee66fd40ea522217c03c6",
        "id": "n2GUoUf_m5GX",
        "outputId": "7161d68c-b195-4313-cc90-2feba6968dca"
      },
      "outputs": [
        {
          "name": "stdout",
          "output_type": "stream",
          "text": [
            "sequences[2] length:  29\n",
            "sequences length:  4736\n",
            "(4736, 150)\n"
          ]
        }
      ],
      "source": [
        "max_words = 1000\n",
        "max_len = 150\n",
        "\n",
        "tok = Tokenizer(num_words=max_words)\n",
        "tok.fit_on_texts(X_train)\n",
        "train_seq = tok.texts_to_sequences(X_train)\n",
        "train_seq_matrix = pad_sequences(train_seq, maxlen=max_len)\n",
        "\n",
        "print('sequences[2] length: ', len(train_seq[2]))\n",
        "print('sequences length: ', len(train_seq))\n",
        "print(train_seq_matrix.shape)"
      ]
    },
    {
      "cell_type": "code",
      "execution_count": null,
      "metadata": {
        "tags": [],
        "id": "AHBe8GY7m5GY",
        "outputId": "a0266c2c-b8cf-4be5-b6c2-65f6a60554b7"
      },
      "outputs": [
        {
          "name": "stdout",
          "output_type": "stream",
          "text": [
            "{'call': 1, 'im': 2, 'ur': 3, 'get': 4, 'ltgt': 5}\n"
          ]
        }
      ],
      "source": [
        "word_index = tok.word_index\n",
        "print(dict(list(word_index.items())[:5]))"
      ]
    },
    {
      "cell_type": "code",
      "execution_count": null,
      "metadata": {
        "tags": [],
        "id": "DbWrOfZlm5GY",
        "outputId": "91f79be1-75f6-458b-956f-53154e202e89"
      },
      "outputs": [
        {
          "data": {
            "text/plain": [
              "8705"
            ]
          },
          "execution_count": 18,
          "metadata": {},
          "output_type": "execute_result"
        }
      ],
      "source": [
        "len(word_index)"
      ]
    },
    {
      "cell_type": "code",
      "execution_count": null,
      "metadata": {
        "id": "5K_Xa2_1m5GY",
        "outputId": "6b1dc922-0f70-4f77-b4a7-10de1f338409"
      },
      "outputs": [
        {
          "data": {
            "text/plain": [
              "1614                                  awesome ill see bit\n",
              "5186    shop till drop either 10k 5k â500 cash â100 tr...\n",
              "677     boy loved gal propsd bt didnt mind gv lv lttrs...\n",
              "2507                          always celebrate nys family\n",
              "2344                                   ok come pick engin\n",
              "                              ...                        \n",
              "3844                                   time come tomorrow\n",
              "2095                             aiyo please got time meh\n",
              "5459                                    thought didnt see\n",
              "4127                                     ltgt mca conform\n",
              "5399    well obviously people cool college life went home\n",
              "Name: sms, Length: 4736, dtype: object"
            ]
          },
          "execution_count": 19,
          "metadata": {},
          "output_type": "execute_result"
        }
      ],
      "source": [
        "X_train"
      ]
    },
    {
      "cell_type": "code",
      "execution_count": null,
      "metadata": {
        "id": "2ECEt3aMm5GZ",
        "outputId": "e9251dc1-01a6-4b9d-eee8-2c9aa1205626"
      },
      "outputs": [
        {
          "data": {
            "text/plain": [
              "'always chat fact need money raise'"
            ]
          },
          "execution_count": 20,
          "metadata": {},
          "output_type": "execute_result"
        }
      ],
      "source": [
        "X_train[310]"
      ]
    },
    {
      "cell_type": "code",
      "execution_count": null,
      "metadata": {
        "id": "u4c_KVnYm5GZ",
        "outputId": "fa7211ff-bf05-486e-b465-2dc56027755d"
      },
      "outputs": [
        {
          "data": {
            "text/plain": [
              "array([  0,   0,   0,   0,   0,   0,   0,   0,   0,   0,   0,   0,   0,\n",
              "         0,   0,   0,   0,   0,   0,   0,   0,   0,   0,   0,   0,   0,\n",
              "         0,   0,   0,   0,   0,   0,   0,   0,   0,   0,   0,   0,   0,\n",
              "         0,   0,   0,   0,   0,   0,   0,   0,   0,   0,   0,   0,   0,\n",
              "         0,   0,   0,   0,   0,   0,   0,   0,   0,   0,   0,   0,   0,\n",
              "         0,   0,   0,   0,   0,   0,   0,   0,   0,   0,   0,   0,   0,\n",
              "         0,   0,   0,   0,   0,   0,   0,   0,   0,   0,   0,   0,   0,\n",
              "         0,   0,   0,   0,   0,   0,   0,   0,   0,   0,   0,   0,   0,\n",
              "         0,   0,   0,   0,   0,   0,   0,   0,   0,   0,   0,   0,   0,\n",
              "         0,   0,   0,   0,   0,   0,   0,   0,   0,   0,   0,   0,   0,\n",
              "         0,   0,   0,   0,   0, 505, 372, 471, 506, 507, 103, 392, 566,\n",
              "         1, 965, 250, 227, 278, 228,  38])"
            ]
          },
          "execution_count": 21,
          "metadata": {},
          "output_type": "execute_result"
        }
      ],
      "source": [
        "train_seq_matrix[1]"
      ]
    },
    {
      "cell_type": "code",
      "execution_count": null,
      "metadata": {
        "id": "yiwBz_VAm5GZ",
        "outputId": "95170b53-db92-4ea0-8537-61bb9799e718"
      },
      "outputs": [
        {
          "name": "stdout",
          "output_type": "stream",
          "text": [
            "always 142\n",
            "chat 158\n",
            "fact 769\n",
            "need 22\n",
            "money 126\n",
            "raise 1628\n"
          ]
        }
      ],
      "source": [
        "for ii in ('always chat fact need money raise').split():\n",
        "    print(ii, word_index.get(ii))"
      ]
    },
    {
      "cell_type": "markdown",
      "metadata": {
        "_uuid": "ad8706caa7a447fb49b44919fd109129e4082a93",
        "id": "uj-eT_USm5Ga"
      },
      "source": [
        "### LSTM\n",
        "Define the RNN structure."
      ]
    },
    {
      "cell_type": "code",
      "execution_count": null,
      "metadata": {
        "id": "FhfDaT6Xm5Ga"
      },
      "outputs": [],
      "source": [
        "# Embedding (input_dim: size of vocabolary,\n",
        "# output_dim: dimension of dense embedding,\n",
        "# input_length: length of input sequence)"
      ]
    },
    {
      "cell_type": "code",
      "execution_count": null,
      "metadata": {
        "id": "NexpT9Ihm5Ga"
      },
      "outputs": [],
      "source": [
        "K.clear_session()\n",
        "model = Sequential()\n",
        "model.add(Embedding(max_words, 128, input_length=max_len))\n",
        "model.add(LSTM(64, activation='tanh'))\n",
        "model.add(Dense(256, activation='relu'))\n",
        "model.add(Dropout(0.1))\n",
        "model.add(Dense(1, name='out_layer', activation='sigmoid'))"
      ]
    },
    {
      "cell_type": "code",
      "execution_count": null,
      "metadata": {
        "_uuid": "a0ede32d4127e8b4990fd74fe97fadef9e565d17",
        "id": "3wRg5hKlm5Ga",
        "outputId": "f6d32626-3dfa-4df8-bc6c-be517b5e269d"
      },
      "outputs": [
        {
          "name": "stdout",
          "output_type": "stream",
          "text": [
            "Model: \"sequential\"\n",
            "_________________________________________________________________\n",
            " Layer (type)                Output Shape              Param #   \n",
            "=================================================================\n",
            " embedding (Embedding)       (None, 150, 128)          128000    \n",
            "                                                                 \n",
            " lstm (LSTM)                 (None, 64)                49408     \n",
            "                                                                 \n",
            " dense (Dense)               (None, 256)               16640     \n",
            "                                                                 \n",
            " dropout (Dropout)           (None, 256)               0         \n",
            "                                                                 \n",
            " out_layer (Dense)           (None, 1)                 257       \n",
            "                                                                 \n",
            "=================================================================\n",
            "Total params: 194,305\n",
            "Trainable params: 194,305\n",
            "Non-trainable params: 0\n",
            "_________________________________________________________________\n"
          ]
        }
      ],
      "source": [
        "model.summary()\n",
        "model.compile(loss='binary_crossentropy',optimizer='adam', metrics=['accuracy'])"
      ]
    },
    {
      "cell_type": "markdown",
      "metadata": {
        "_uuid": "bc2e0a3ec50d14c790b82d66f9255456ec6a69da",
        "id": "_Er5Gb5Xm5Ga"
      },
      "source": [
        "Fit on the training data."
      ]
    },
    {
      "cell_type": "code",
      "execution_count": null,
      "metadata": {
        "_uuid": "98f6d6318352420ea49c532cda158f715f940f4b",
        "id": "KYFrh9FVm5Ga",
        "outputId": "861bf91d-3de2-4eca-e042-6e386b02f42c"
      },
      "outputs": [
        {
          "name": "stdout",
          "output_type": "stream",
          "text": [
            "Epoch 1/10\n",
            "30/30 [==============================] - 8s 172ms/step - loss: 0.4233 - accuracy: 0.8585 - val_loss: 0.2389 - val_accuracy: 0.8787\n",
            "Epoch 2/10\n",
            "30/30 [==============================] - 5s 154ms/step - loss: 0.1381 - accuracy: 0.9498 - val_loss: 0.0838 - val_accuracy: 0.9715\n",
            "Epoch 3/10\n",
            "30/30 [==============================] - 5s 174ms/step - loss: 0.0488 - accuracy: 0.9834 - val_loss: 0.0533 - val_accuracy: 0.9831\n",
            "Epoch 4/10\n",
            "30/30 [==============================] - 5s 154ms/step - loss: 0.0288 - accuracy: 0.9910 - val_loss: 0.0499 - val_accuracy: 0.9863\n",
            "Epoch 5/10\n",
            "30/30 [==============================] - 5s 153ms/step - loss: 0.0200 - accuracy: 0.9942 - val_loss: 0.0472 - val_accuracy: 0.9863\n",
            "Epoch 6/10\n",
            "30/30 [==============================] - 5s 154ms/step - loss: 0.0140 - accuracy: 0.9958 - val_loss: 0.0492 - val_accuracy: 0.9863\n",
            "Epoch 7/10\n",
            "30/30 [==============================] - 5s 152ms/step - loss: 0.0102 - accuracy: 0.9974 - val_loss: 0.0563 - val_accuracy: 0.9852\n",
            "Epoch 8/10\n",
            "30/30 [==============================] - 5s 152ms/step - loss: 0.0088 - accuracy: 0.9982 - val_loss: 0.0578 - val_accuracy: 0.9852\n",
            "Epoch 9/10\n",
            "30/30 [==============================] - 5s 153ms/step - loss: 0.0088 - accuracy: 0.9984 - val_loss: 0.0657 - val_accuracy: 0.9831\n",
            "Epoch 10/10\n",
            "30/30 [==============================] - 5s 153ms/step - loss: 0.0084 - accuracy: 0.9984 - val_loss: 0.0596 - val_accuracy: 0.9905\n"
          ]
        },
        {
          "data": {
            "text/plain": [
              "<keras.callbacks.History at 0x148c63c9ee0>"
            ]
          },
          "execution_count": 26,
          "metadata": {},
          "output_type": "execute_result"
        }
      ],
      "source": [
        "#es = EarlyStopping(monitor='val_loss', patience=4)\n",
        "model.fit(train_seq_matrix, y_train, batch_size=128,epochs=10, validation_split=0.2, callbacks=[])"
      ]
    },
    {
      "cell_type": "markdown",
      "metadata": {
        "_uuid": "448ab38c2f804e47df48eb45385393aaec168032",
        "id": "QFDDTbTxm5Gb"
      },
      "source": [
        "The model performs well on the validation set and this configuration is chosen as the final model."
      ]
    },
    {
      "cell_type": "markdown",
      "metadata": {
        "_uuid": "ccca7839445a7d663ee7bc425a16e247df3e0e5b",
        "id": "vW4X8wOGm5Gb"
      },
      "source": [
        "Process the test set data."
      ]
    },
    {
      "cell_type": "code",
      "execution_count": null,
      "metadata": {
        "_uuid": "80036135a11387d952becaf2fecf653a65c02328",
        "id": "y3z7hDDRm5Gc"
      },
      "outputs": [],
      "source": [
        "test_seq = tok.texts_to_sequences(X_test)\n",
        "test_seq_matrix = pad_sequences(test_seq, maxlen=max_len)"
      ]
    },
    {
      "cell_type": "markdown",
      "metadata": {
        "_uuid": "0b60d7d2bcc0aabf77c8c8766c59f8d73cd34547",
        "id": "RotoOWBCm5Gc"
      },
      "source": [
        "Evaluate the model on the test set."
      ]
    },
    {
      "cell_type": "code",
      "execution_count": null,
      "metadata": {
        "_uuid": "0db183049b59d96388812a98efedfc865b7cc141",
        "id": "UB9F04mrm5Gc",
        "outputId": "7fed486d-bad4-4be8-8659-41bbdbe30548"
      },
      "outputs": [
        {
          "name": "stdout",
          "output_type": "stream",
          "text": [
            "27/27 [==============================] - 1s 22ms/step - loss: 0.1355 - accuracy: 0.9785\n"
          ]
        }
      ],
      "source": [
        "accr = model.evaluate(test_seq_matrix,y_test)"
      ]
    },
    {
      "cell_type": "code",
      "execution_count": null,
      "metadata": {
        "_uuid": "3e121ab83f4a0b9f7376ab24aa25d67051171f89",
        "scrolled": true,
        "id": "vc9y0tP_m5Gd",
        "outputId": "e413b466-5630-4b0d-8e13-81e96f5e6070"
      },
      "outputs": [
        {
          "name": "stdout",
          "output_type": "stream",
          "text": [
            "Test set\n",
            "  Loss: 0.135\n",
            "  Accuracy: 0.978\n"
          ]
        }
      ],
      "source": [
        "print('Test set\\n  Loss: {:0.3f}\\n  Accuracy: {:0.3f}'.format(accr[0],accr[1]))"
      ]
    },
    {
      "cell_type": "markdown",
      "metadata": {
        "id": "5xwYLxVAm5Gd"
      },
      "source": [
        "## GloVe"
      ]
    },
    {
      "cell_type": "code",
      "execution_count": null,
      "metadata": {
        "tags": [],
        "id": "u7IrI2OMm5Ge",
        "outputId": "7244a64f-794c-47c7-d1bb-da6e18f7dec3"
      },
      "outputs": [
        {
          "name": "stdout",
          "output_type": "stream",
          "text": [
            "Loaded 400000 word vectors.\n"
          ]
        }
      ],
      "source": [
        "# load the whole embedding into memory\n",
        "embeddings_index = dict()\n",
        "f = open('E:\\Large\\glove\\glove.6B.50d.txt', encoding='cp437')\n",
        "for line in f:\n",
        "    values = line.split()\n",
        "    word = values[0]\n",
        "    coefs = np.asarray(values[1:], dtype='float32')\n",
        "    embeddings_index[word] = coefs\n",
        "f.close()\n",
        "print('Loaded %s word vectors.' % len(embeddings_index))"
      ]
    },
    {
      "cell_type": "code",
      "execution_count": null,
      "metadata": {
        "tags": [],
        "id": "AyjGol53m5Ge",
        "outputId": "58625ee9-4e68-4299-cb41-fbba162a21e2"
      },
      "outputs": [
        {
          "data": {
            "text/plain": [
              "8706"
            ]
          },
          "execution_count": 31,
          "metadata": {},
          "output_type": "execute_result"
        }
      ],
      "source": [
        "vocab_size = len(tok.word_index) + 1\n",
        "vocab_size"
      ]
    },
    {
      "cell_type": "code",
      "execution_count": null,
      "metadata": {
        "tags": [],
        "id": "5ZuWl0YOm5G3"
      },
      "outputs": [],
      "source": [
        "# create a weight matrix for words in training docs\n",
        "embedding_matrix = np.zeros((vocab_size, 50))\n",
        "for word, i in tok.word_index.items():\n",
        "    embedding_vector = embeddings_index.get(word)\n",
        "    if embedding_vector is not None:\n",
        "        embedding_matrix[i] = embedding_vector"
      ]
    },
    {
      "cell_type": "code",
      "execution_count": null,
      "metadata": {
        "tags": [],
        "id": "qvRCOdC7m5G4"
      },
      "outputs": [],
      "source": [
        "batch_size = 256\n",
        "epochs = 20\n",
        "embed_size = 50"
      ]
    },
    {
      "cell_type": "code",
      "execution_count": null,
      "metadata": {
        "scrolled": true,
        "tags": [],
        "id": "hJCuN_KYm5G4",
        "outputId": "08a00624-188c-409b-fb59-88a73a9713fc"
      },
      "outputs": [
        {
          "name": "stdout",
          "output_type": "stream",
          "text": [
            "Model: \"sequential_1\"\n",
            "_________________________________________________________________\n",
            " Layer (type)                Output Shape              Param #   \n",
            "=================================================================\n",
            " embedding_1 (Embedding)     (None, 150, 50)           435300    \n",
            "                                                                 \n",
            " lstm_1 (LSTM)               (None, 150, 128)          91648     \n",
            "                                                                 \n",
            " lstm_2 (LSTM)               (None, 64)                49408     \n",
            "                                                                 \n",
            " dense_1 (Dense)             (None, 32)                2080      \n",
            "                                                                 \n",
            " dense_2 (Dense)             (None, 1)                 33        \n",
            "                                                                 \n",
            "=================================================================\n",
            "Total params: 578,469\n",
            "Trainable params: 143,169\n",
            "Non-trainable params: 435,300\n",
            "_________________________________________________________________\n"
          ]
        }
      ],
      "source": [
        "model = Sequential()\n",
        "#Non-trainable embeddidng layer\n",
        "model.add(Embedding(vocab_size, output_dim=embed_size, weights=[embedding_matrix],\n",
        "                    input_length=max_len, trainable=False))\n",
        "#LSTM\n",
        "model.add(LSTM(units=128 , return_sequences = True))\n",
        "model.add(LSTM(units=64))\n",
        "model.add(Dense(units = 32 , activation = 'relu'))\n",
        "model.add(Dense(1, activation='sigmoid'))\n",
        "model.compile(optimizer='adam', loss='binary_crossentropy', metrics=['accuracy'])\n",
        "model.summary()"
      ]
    },
    {
      "cell_type": "code",
      "execution_count": null,
      "metadata": {
        "tags": [],
        "id": "7cCW5VVem5G4",
        "outputId": "77622906-2c02-4940-eb7c-d3079625d611"
      },
      "outputs": [
        {
          "name": "stdout",
          "output_type": "stream",
          "text": [
            "Epoch 1/20\n",
            "17/17 [==============================] - 13s 549ms/step - loss: 0.4816 - accuracy: 0.8627 - val_loss: 0.2698 - val_accuracy: 0.9051\n",
            "Epoch 2/20\n",
            "17/17 [==============================] - 9s 560ms/step - loss: 0.2099 - accuracy: 0.9240 - val_loss: 0.1358 - val_accuracy: 0.9557\n",
            "Epoch 3/20\n",
            "17/17 [==============================] - 8s 478ms/step - loss: 0.1457 - accuracy: 0.9486 - val_loss: 0.1453 - val_accuracy: 0.9515\n",
            "Epoch 4/20\n",
            "17/17 [==============================] - 8s 459ms/step - loss: 0.1341 - accuracy: 0.9517 - val_loss: 0.1000 - val_accuracy: 0.9641\n",
            "Epoch 5/20\n",
            "11/17 [==================>...........] - ETA: 5s - loss: 0.1123 - accuracy: 0.9599 "
          ]
        }
      ],
      "source": [
        "history = model.fit(train_seq_matrix, y_train, batch_size = batch_size, validation_split=0.1, epochs = epochs)"
      ]
    },
    {
      "cell_type": "code",
      "execution_count": null,
      "metadata": {
        "_uuid": "80036135a11387d952becaf2fecf653a65c02328",
        "id": "v9cr4mFlm5G5"
      },
      "outputs": [],
      "source": [
        "test_seq = tok.texts_to_sequences(X_test)\n",
        "test_seq_matrix = pad_sequences(test_seq, maxlen=max_len)"
      ]
    },
    {
      "cell_type": "markdown",
      "metadata": {
        "_uuid": "0b60d7d2bcc0aabf77c8c8766c59f8d73cd34547",
        "id": "sL4X9VhVm5G6"
      },
      "source": [
        "Evaluate the model on the test set."
      ]
    },
    {
      "cell_type": "code",
      "execution_count": null,
      "metadata": {
        "_uuid": "0db183049b59d96388812a98efedfc865b7cc141",
        "id": "F062fGx2m5G6",
        "outputId": "9deb552c-7358-4e63-cb74-03a0694dc8be"
      },
      "outputs": [
        {
          "name": "stdout",
          "output_type": "stream",
          "text": [
            "27/27 [==============================] - 2s 74ms/step - loss: 0.0665 - accuracy: 0.9797\n"
          ]
        }
      ],
      "source": [
        "accr = model.evaluate(test_seq_matrix, y_test)"
      ]
    },
    {
      "cell_type": "code",
      "execution_count": null,
      "metadata": {
        "_uuid": "3e121ab83f4a0b9f7376ab24aa25d67051171f89",
        "scrolled": true,
        "id": "kH86-oHum5G7",
        "outputId": "fecd3408-775f-4862-b978-33e1616cd3c1"
      },
      "outputs": [
        {
          "name": "stdout",
          "output_type": "stream",
          "text": [
            "Test set\n",
            "  Loss: 0.067\n",
            "  Accuracy: 0.980\n"
          ]
        }
      ],
      "source": [
        "print('Test set\\n  Loss: {:0.3f}\\n  Accuracy: {:0.3f}'.format(accr[0],accr[1]))"
      ]
    },
    {
      "cell_type": "code",
      "execution_count": null,
      "metadata": {
        "id": "d9jx3ufkm5G7",
        "outputId": "8b5b850a-fcad-4914-b2ae-d78bb3107524"
      },
      "outputs": [
        {
          "data": {
            "image/png": "[encoded data removed]",
            "text/plain": [
              "<Figure size 640x480 with 1 Axes>"
            ]
          },
          "metadata": {},
          "output_type": "display_data"
        }
      ],
      "source": [
        "plt.title('Loss')\n",
        "plt.plot(history.history['loss'], label='train')\n",
        "plt.plot(history.history['val_loss'], label='test')\n",
        "plt.legend()\n",
        "plt.show();"
      ]
    },
    {
      "cell_type": "code",
      "execution_count": null,
      "metadata": {
        "id": "GCr4IFCEm5G8",
        "outputId": "764e5b4f-0921-40e5-eb7a-0abe14d1a064"
      },
      "outputs": [
        {
          "data": {
            "image/png": "[encoded data removed]",
            "text/plain": [
              "<Figure size 640x480 with 1 Axes>"
            ]
          },
          "metadata": {},
          "output_type": "display_data"
        }
      ],
      "source": [
        "plt.title('Accuracy')\n",
        "plt.plot(history.history['accuracy'], label='train')\n",
        "plt.plot(history.history['val_accuracy'], label='test')\n",
        "plt.legend()\n",
        "plt.show();"
      ]
    },
    {
      "cell_type": "markdown",
      "metadata": {
        "id": "UZ4Wrcuzm5G8"
      },
      "source": [
        "Test with a new complaint."
      ]
    },
    {
      "cell_type": "code",
      "execution_count": null,
      "metadata": {
        "id": "8wwcQYHCm5G8",
        "outputId": "20b25435-97be-46c0-ae54-029e46eac008"
      },
      "outputs": [
        {
          "name": "stdout",
          "output_type": "stream",
          "text": [
            "1/1 [==============================] - 1s 1s/step\n",
            "\n",
            "\n",
            "[[0.9993667]] \n",
            " Credit reporting, credit repair services, or other personal consumer reports\n"
          ]
        }
      ],
      "source": [
        "new_complaint = ['Heavy discount, apply now .... immediately']\n",
        "seq = tok.texts_to_sequences(new_complaint)\n",
        "padded = pad_sequences(seq, maxlen=max_len)\n",
        "pred = model.predict(padded)\n",
        "labels = ['Spam', 'Ham']\n",
        "\n",
        "print('\\n')\n",
        "print(pred, '\\n', labels[np.argmax(pred)])"
      ]
    },
    {
      "cell_type": "code",
      "execution_count": null,
      "metadata": {
        "id": "PTe5Gd49m5G8",
        "outputId": "03e11557-0d51-4320-e155-b3ddd9906a2a"
      },
      "outputs": [
        {
          "name": "stdout",
          "output_type": "stream",
          "text": [
            "27/27 [==============================] - 1s 53ms/step\n",
            "[[722   2]\n",
            " [ 15  97]]\n"
          ]
        },
        {
          "data": {
            "text/plain": [
              "<sklearn.metrics._plot.confusion_matrix.ConfusionMatrixDisplay at 0x181f74e3af0>"
            ]
          },
          "execution_count": 173,
          "metadata": {},
          "output_type": "execute_result"
        },
        {
          "data": {
            "image/png": "[encoded data removed]",
            "text/plain": [
              "<Figure size 300x300 with 1 Axes>"
            ]
          },
          "metadata": {},
          "output_type": "display_data"
        }
      ],
      "source": [
        "y_test_prob = model.predict(test_seq_matrix)\n",
        "y_test_pred = np.where(y_test_prob>0.5,1,0)\n",
        "print(confusion_matrix(y_test, y_test_pred))\n",
        "\n",
        "fig, ax = plt.subplots(figsize=(3,3))\n",
        "ConfusionMatrixDisplay.from_predictions(y_test, y_test_pred, display_labels=le.classes_,\n",
        "            xticks_rotation=\"vertical\", cmap='gray', ax=ax, colorbar=False)"
      ]
    },
    {
      "cell_type": "markdown",
      "metadata": {
        "id": "yoA8_Zocm5G9"
      },
      "source": [
        "### BiLSTM - Bidirectional LSTM"
      ]
    },
    {
      "cell_type": "code",
      "execution_count": null,
      "metadata": {
        "id": "c1xddeVUm5G-"
      },
      "outputs": [],
      "source": [
        "from keras.layers import LSTM, Bidirectional"
      ]
    },
    {
      "cell_type": "code",
      "execution_count": null,
      "metadata": {
        "id": "kP4IQZYBm5G-"
      },
      "outputs": [],
      "source": [
        "K.clear_session()\n",
        "model = Sequential()\n",
        "model.add(Embedding(max_words, 128, input_length=max_len))\n",
        "model.add(Bidirectional(LSTM(64)))\n",
        "model.add(Dense(256,name='FC1', activation='relu'))\n",
        "model.add(Dropout(0.5))\n",
        "model.add(Dense(1, name='out_layer', activation='sigmoid'))"
      ]
    },
    {
      "cell_type": "code",
      "execution_count": null,
      "metadata": {
        "_uuid": "a0ede32d4127e8b4990fd74fe97fadef9e565d17",
        "id": "YMBv0s9Pm5G-",
        "outputId": "140a7730-b60e-48de-8ecd-4de1bc4c3d56"
      },
      "outputs": [
        {
          "name": "stdout",
          "output_type": "stream",
          "text": [
            "Model: \"sequential\"\n",
            "_________________________________________________________________\n",
            " Layer (type)                Output Shape              Param #   \n",
            "=================================================================\n",
            " embedding (Embedding)       (None, 150, 128)          128000    \n",
            "                                                                 \n",
            " bidirectional (Bidirectiona  (None, 128)              98816     \n",
            " l)                                                              \n",
            "                                                                 \n",
            " FC1 (Dense)                 (None, 256)               33024     \n",
            "                                                                 \n",
            " dropout (Dropout)           (None, 256)               0         \n",
            "                                                                 \n",
            " out_layer (Dense)           (None, 1)                 257       \n",
            "                                                                 \n",
            "=================================================================\n",
            "Total params: 260,097\n",
            "Trainable params: 260,097\n",
            "Non-trainable params: 0\n",
            "_________________________________________________________________\n"
          ]
        }
      ],
      "source": [
        "model.summary()\n",
        "model.compile(loss='binary_crossentropy',optimizer='adam', metrics=['accuracy'])"
      ]
    },
    {
      "cell_type": "markdown",
      "metadata": {
        "_uuid": "bc2e0a3ec50d14c790b82d66f9255456ec6a69da",
        "id": "QJA9b1Jjm5G_"
      },
      "source": [
        "Fit on the training data."
      ]
    },
    {
      "cell_type": "code",
      "execution_count": null,
      "metadata": {
        "_uuid": "98f6d6318352420ea49c532cda158f715f940f4b",
        "id": "56JIEAV6m5G_",
        "outputId": "9d9cdfff-c9a4-4484-e2b0-dddce538dd89"
      },
      "outputs": [
        {
          "name": "stdout",
          "output_type": "stream",
          "text": [
            "Epoch 1/10\n",
            "30/30 [==============================] - 12s 281ms/step - loss: 0.4511 - accuracy: 0.8619 - val_loss: 0.3999 - val_accuracy: 0.8639\n",
            "Epoch 2/10\n",
            "30/30 [==============================] - 8s 252ms/step - loss: 0.3961 - accuracy: 0.8664 - val_loss: 0.4014 - val_accuracy: 0.8639\n",
            "Epoch 3/10\n",
            "30/30 [==============================] - 8s 257ms/step - loss: 0.3882 - accuracy: 0.8664 - val_loss: 0.4154 - val_accuracy: 0.8639\n",
            "Epoch 4/10\n",
            "30/30 [==============================] - 8s 254ms/step - loss: 0.3448 - accuracy: 0.8672 - val_loss: 0.4820 - val_accuracy: 0.8597\n",
            "Epoch 5/10\n",
            "30/30 [==============================] - 8s 255ms/step - loss: 0.3109 - accuracy: 0.8730 - val_loss: 0.5416 - val_accuracy: 0.8397\n"
          ]
        },
        {
          "data": {
            "text/plain": [
              "<keras.callbacks.History at 0x296267e5d30>"
            ]
          },
          "execution_count": 61,
          "metadata": {},
          "output_type": "execute_result"
        }
      ],
      "source": [
        "model.fit(train_seq_matrix, y_train, batch_size=128,epochs=10,\n",
        "          validation_split=0.2, callbacks=[EarlyStopping(monitor='val_loss', patience=4)])"
      ]
    },
    {
      "cell_type": "markdown",
      "metadata": {
        "_uuid": "448ab38c2f804e47df48eb45385393aaec168032",
        "id": "C4eo6zzUm5HA"
      },
      "source": [
        "The model performs well on the validation set and this configuration is chosen as the final model."
      ]
    },
    {
      "cell_type": "markdown",
      "metadata": {
        "_uuid": "ccca7839445a7d663ee7bc425a16e247df3e0e5b",
        "id": "bnKIPDSMm5HB"
      },
      "source": [
        "Process the test set data."
      ]
    },
    {
      "cell_type": "code",
      "execution_count": null,
      "metadata": {
        "_uuid": "80036135a11387d952becaf2fecf653a65c02328",
        "id": "DYjwoIUsm5HB"
      },
      "outputs": [],
      "source": [
        "test_seq = tok.texts_to_sequences(X_test)\n",
        "test_seq_matrix = pad_sequences(test_seq,maxlen=max_len)"
      ]
    },
    {
      "cell_type": "markdown",
      "metadata": {
        "_uuid": "0b60d7d2bcc0aabf77c8c8766c59f8d73cd34547",
        "id": "tiObPOyrm5HC"
      },
      "source": [
        "Evaluate the model on the test set."
      ]
    },
    {
      "cell_type": "code",
      "execution_count": null,
      "metadata": {
        "_uuid": "0db183049b59d96388812a98efedfc865b7cc141",
        "id": "LGQ8MQeOm5HC",
        "outputId": "65a61515-f1d6-4c87-b37c-25277b87e668"
      },
      "outputs": [
        {
          "name": "stdout",
          "output_type": "stream",
          "text": [
            "27/27 [==============================] - 1s 41ms/step - loss: 0.6083 - accuracy: 0.8421\n"
          ]
        }
      ],
      "source": [
        "accr = model.evaluate(test_seq_matrix,y_test)"
      ]
    },
    {
      "cell_type": "code",
      "execution_count": null,
      "metadata": {
        "_uuid": "3e121ab83f4a0b9f7376ab24aa25d67051171f89",
        "scrolled": true,
        "id": "PkERup3Pm5HD",
        "outputId": "508a308f-f4a4-462d-a51c-ed4516bf64ec"
      },
      "outputs": [
        {
          "name": "stdout",
          "output_type": "stream",
          "text": [
            "Test set\n",
            "  Loss: 0.608\n",
            "  Accuracy: 0.842\n"
          ]
        }
      ],
      "source": [
        "print('Test set\\n  Loss: {:0.3f}\\n  Accuracy: {:0.3f}'.format(accr[0],accr[1]))"
      ]
    }
  ],
  "metadata": {
    "kernelspec": {
      "display_name": "Python 3 (ipykernel)",
      "language": "python",
      "name": "python3"
    },
    "language_info": {
      "codemirror_mode": {
        "name": "ipython",
        "version": 3
      },
      "file_extension": ".py",
      "mimetype": "text/x-python",
      "name": "python",
      "nbconvert_exporter": "python",
      "pygments_lexer": "ipython3",
      "version": "3.9.18"
    },
    "colab": {
      "provenance": []
    }
  },
  "nbformat": 4,
  "nbformat_minor": 0
}